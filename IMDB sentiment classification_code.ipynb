{
 "cells": [
  {
   "cell_type": "code",
   "execution_count": 14,
   "metadata": {},
   "outputs": [],
   "source": [
    "import tensorflow as tf\n",
    "from tensorflow.python.keras import backend as K\n",
    "config = tf.compat.v1.ConfigProto( device_count = {'GPU': 1 , 'CPU': 8} )\n",
    "sess = tf.compat.v1.Session(config=config) \n",
    "K.set_session(sess)"
   ]
  },
  {
   "cell_type": "code",
   "execution_count": 15,
   "metadata": {},
   "outputs": [
    {
     "data": {
      "text/plain": [
       "True"
      ]
     },
     "execution_count": 15,
     "metadata": {},
     "output_type": "execute_result"
    }
   ],
   "source": [
    "tf.test.is_built_with_cuda()"
   ]
  },
  {
   "cell_type": "code",
   "execution_count": 16,
   "metadata": {},
   "outputs": [],
   "source": [
    "from keras.datasets import imdb\n",
    "import numpy as np\n",
    "from keras.preprocessing import sequence\n",
    "from tensorflow.keras.models import Sequential\n",
    "from tensorflow.keras.layers import Embedding, SimpleRNN, Dense\n",
    "from tensorflow.keras import initializers\n",
    "from tensorflow.keras.optimizers import RMSprop\n",
    "import matplotlib.pyplot as plt\n",
    "from keras.datasets import imdb\n",
    "from numpy.random import seed\n",
    "seed(5)\n",
    "import tensorflow\n",
    "tensorflow.random.set_seed(180)"
   ]
  },
  {
   "cell_type": "markdown",
   "metadata": {},
   "source": [
    "## Using RNNs to classify sentiment on IMDB data\n",
    "\n",
    "In this assignment,you will train three types of RNNs:  \"vanilla\" RNN, LSTM and GRU to predict the sentiment on IMDB reviews.  \n",
    "\n",
    "Keras provides a convenient interface to load the data and immediately encode the words into integers (based on the most common words). \n",
    "This will save you a lot of the drudgery that is usually involved when working with raw text.\n",
    "\n",
    "The IMDB is  data consists of 25000 training sequences and 25000 test sequences. \n",
    "The outcome is binary (positive/negative) and both outcomes are equally represented in both the training and the test set.\n",
    "\n",
    "\n",
    "Walk through the followinng steps to prepare the data and the building of an RNN model. "
   ]
  },
  {
   "cell_type": "markdown",
   "metadata": {},
   "source": [
    "1- Use the `imdb.load_data()` to load in the data \n",
    "\n",
    "2- Specify the maximum length of a sequence to 20000 words and the pick the most common words to 30. "
   ]
  },
  {
   "cell_type": "code",
   "execution_count": 17,
   "metadata": {},
   "outputs": [],
   "source": [
    "def dataload(num_words=20000):\n",
    "    (train_data, train_labels), (test_data, test_labels) = imdb.load_data(num_words=num_words)\n",
    "    return train_data,train_labels,test_data, test_labels\n",
    "train_data,train_labels,test_data, test_labels= dataload(num_words=20000)"
   ]
  },
  {
   "cell_type": "markdown",
   "metadata": {},
   "source": [
    "3- Check that the number of sequences in train and test datasets are equal (default split):\n",
    "    \n",
    "Expected output:\n",
    "- `x_train = 25000 train sequences`\n",
    "\n",
    "- `x_test = 25000 test sequences`"
   ]
  },
  {
   "cell_type": "code",
   "execution_count": 18,
   "metadata": {},
   "outputs": [
    {
     "data": {
      "text/plain": [
       "(25000, 25000)"
      ]
     },
     "execution_count": 18,
     "metadata": {},
     "output_type": "execute_result"
    }
   ],
   "source": [
    "np.size(train_data) , np.size(test_data)"
   ]
  },
  {
   "cell_type": "markdown",
   "metadata": {},
   "source": [
    "4- Pad (or truncate) the sequences so that they are of the maximum length"
   ]
  },
  {
   "cell_type": "code",
   "execution_count": 19,
   "metadata": {},
   "outputs": [
    {
     "data": {
      "text/plain": [
       "(25000, 30)"
      ]
     },
     "execution_count": 19,
     "metadata": {},
     "output_type": "execute_result"
    }
   ],
   "source": [
    " def padd(train_data,test_data,train_labels,test_labels):\n",
    "    x_train=sequence.pad_sequences(train_data,common_words)\n",
    "    x_test=sequence.pad_sequences(test_data,common_words)\n",
    "    y_train = np.asarray(train_labels).astype('float32').reshape((-1,1))\n",
    "    y_test = np.asarray(test_labels).astype('float32').reshape((-1,1))\n",
    "    return x_train,x_test,y_train,y_test\n",
    "common_words=30\n",
    "x_train,x_test,y_train,y_test=padd(train_data,test_data,train_labels,test_labels)\n",
    "x_train.shape"
   ]
  },
  {
   "cell_type": "markdown",
   "metadata": {},
   "source": [
    "5- After padding or truncating, check the dimensionality of x_train and x_test.\n",
    "\n",
    "Expected output:\n",
    "- `x_train shape: (25000, 30)`\n",
    "- `x_test shape: (25000, 30)`"
   ]
  },
  {
   "cell_type": "code",
   "execution_count": 20,
   "metadata": {},
   "outputs": [
    {
     "name": "stdout",
     "output_type": "stream",
     "text": [
      "x_train shape: (25000, 30)\n",
      "x_test shape: (25000, 30)\n"
     ]
    }
   ],
   "source": [
    "print('x_train shape:',x_train.shape)\n",
    "print('x_test shape:',x_test.shape)"
   ]
  },
  {
   "cell_type": "markdown",
   "metadata": {},
   "source": [
    "## Keras layers for (Vanilla) RNNs\n",
    "\n",
    "In this step, you will not use pre-trained word vectors, Instead you will learn an embedding as part of the  the Vanilla) RNNs network  Neural Network. \n",
    "\n",
    "In the Keras API documentation, the Embedding Layer and the SimpleRNN Layer have the following syntax:\n",
    "\n",
    "### Embedding Layer\n",
    "`keras.layers.embeddings.Embedding(input_dim, output_dim, embeddings_initializer='uniform', embeddings_regularizer=None, activity_regularizer=None, embeddings_constraint=None, mask_zero=False, input_length=None)`\n",
    "\n",
    "- This layer maps each integer into a distinct (dense) word vector of length `output_dim`.\n",
    "- Can think of this as learning a word vector embedding \"on the fly\" rather than using an existing mapping (like GloVe)\n",
    "- The `input_dim` should be the size of the vocabulary.\n",
    "- The `input_length` specifies the length of the sequences that the network expects.\n",
    "\n",
    "### SimpleRNN Layer\n",
    "`keras.layers.recurrent.SimpleRNN(units, activation='tanh', use_bias=True, kernel_initializer='glorot_uniform', recurrent_initializer='orthogonal', bias_initializer='zeros', kernel_regularizer=None, recurrent_regularizer=None, bias_regularizer=None, activity_regularizer=None, kernel_constraint=None, recurrent_constraint=None, bias_constraint=None, dropout=0.0, recurrent_dropout=0.0)`\n",
    "\n",
    "- This is the basic RNN, where the output is also fed back as the \"hidden state\" to the next iteration.\n",
    "- The parameter `units` gives the dimensionality of the output (and therefore the hidden state).  Note that typically there will be another layer after the RNN mapping the (RNN) output to the network output.  So we should think of this value as the desired dimensionality of the hidden state and not necessarily the desired output of the network.\n",
    "- Recall that there are two sets of weights, one for the \"recurrent\" phase and the other for the \"kernel\" phase.  These can be configured separately in terms of their initialization, regularization, etc.\n",
    "\n",
    "\n",
    "\n",
    "\n"
   ]
  },
  {
   "cell_type": "markdown",
   "metadata": {},
   "source": [
    "6- Build the RNN with three layers: \n",
    "- The SimpleRNN layer with 5 neurons and initialize its kernel with stddev=0.001\n",
    "\n",
    "- The Embedding layer and initialize it by setting the word embedding dimension to 50. This means that this layer takes each integer in the sequence and embeds it in a 50-dimensional vector.\n",
    "\n",
    "-  The output layer has the sigmoid activation function."
   ]
  },
  {
   "cell_type": "code",
   "execution_count": 21,
   "metadata": {},
   "outputs": [
    {
     "name": "stdout",
     "output_type": "stream",
     "text": [
      "Model: \"sequential_3\"\n",
      "_________________________________________________________________\n",
      " Layer (type)                Output Shape              Param #   \n",
      "=================================================================\n",
      " embedding_3 (Embedding)     (None, 30, 50)            1000000   \n",
      "                                                                 \n",
      " simple_rnn_3 (SimpleRNN)    (None, 30, 5)             280       \n",
      "                                                                 \n",
      " dense_3 (Dense)             (None, 30, 1)             6         \n",
      "                                                                 \n",
      "=================================================================\n",
      "Total params: 1,000,286\n",
      "Trainable params: 1,000,286\n",
      "Non-trainable params: 0\n",
      "_________________________________________________________________\n"
     ]
    }
   ],
   "source": [
    "def create_model(num_words=20000,inputlength=30,nl=1):\n",
    "    model=Sequential()\n",
    "    model.add(Embedding(num_words,50,input_length=inputlength))\n",
    "    for i in range(nl):\n",
    "        model.add(SimpleRNN(5,return_sequences=True, kernel_initializer=initializers.RandomNormal(stddev=0.01)))\n",
    "    model.add(Dense(1,activation='sigmoid'))\n",
    "    return model\n",
    "model1=create_model(20000,30,1)\n",
    "model1.summary()"
   ]
  },
  {
   "cell_type": "markdown",
   "metadata": {},
   "source": [
    "7- How many parameters have the embedding layer?"
   ]
  },
  {
   "cell_type": "markdown",
   "metadata": {},
   "source": [
    "#### The embedding layer has input_dim*output_dim number of parameters. Here the input dimension is 20000 as we truncated the sequence to maximum length of 20000, and output dimension or word embedding dimension as 50. Therefore it is 50 times 20000=  1000000 "
   ]
  },
  {
   "cell_type": "markdown",
   "metadata": {},
   "source": [
    "8 - Train the network with the RMSprop with learning rate of .0001 and epochs=10 "
   ]
  },
  {
   "cell_type": "markdown",
   "metadata": {},
   "source": [
    "9 -  PLot the loss and accuracy metrics during the training and interpret the result."
   ]
  },
  {
   "cell_type": "code",
   "execution_count": 22,
   "metadata": {},
   "outputs": [],
   "source": [
    "from sklearn import metrics\n",
    "def plot_loss(loss,val_loss):\n",
    "  plt.figure()\n",
    "  plt.plot(loss)\n",
    "  plt.plot(val_loss)\n",
    "  plt.title('Model loss')\n",
    "  plt.ylabel('Loss')\n",
    "  plt.xlabel('Epoch')\n",
    "  plt.legend(['Train', 'val'], loc='upper right')\n",
    "  plt.show()\n",
    "def plot_accuracy(acc,val_acc):\n",
    "  # Plot training & validation accuracy values\n",
    "  plt.figure()\n",
    "  plt.plot(acc)\n",
    "  plt.plot(val_acc)\n",
    "  plt.title('Model accuracy')\n",
    "  plt.ylabel('Accuracy')\n",
    "  plt.xlabel('Epoch')\n",
    "  plt.legend(['Train', 'val'], loc='upper left')\n",
    "  plt.show()"
   ]
  },
  {
   "cell_type": "markdown",
   "metadata": {},
   "source": [
    " ## loss and accuracy metrics during the training "
   ]
  },
  {
   "cell_type": "code",
   "execution_count": 23,
   "metadata": {
    "scrolled": false
   },
   "outputs": [
    {
     "data": {
      "image/png": "[encoded data removed]",
      "text/plain": [
       "<Figure size 432x288 with 1 Axes>"
      ]
     },
     "metadata": {
      "needs_background": "light"
     },
     "output_type": "display_data"
    },
    {
     "data": {
      "image/png": "[encoded data removed]",
      "text/plain": [
       "<Figure size 432x288 with 1 Axes>"
      ]
     },
     "metadata": {
      "needs_background": "light"
     },
     "output_type": "display_data"
    },
    {
     "name": "stdout",
     "output_type": "stream",
     "text": [
      "1min 31s ± 0 ns per loop (mean ± std. dev. of 1 run, 1 loop each)\n"
     ]
    }
   ],
   "source": [
    "%%timeit -n1 -r1 \n",
    "rms=RMSprop(learning_rate=0.001)\n",
    "model1.compile(optimizer=rms,loss='binary_crossentropy',metrics=['acc'])\n",
    "history1=model1.fit(x_train,y_train,epochs=10,batch_size=32,validation_split = 0.2,verbose=0)\n",
    "plot_loss(history1.history['loss'], history1.history['val_loss'])\n",
    "# Plot train vs test accuracy during training\n",
    "plot_accuracy(history1.history['acc'], history1.history['val_acc'])"
   ]
  },
  {
   "cell_type": "markdown",
   "metadata": {},
   "source": [
    "### As seen the loss and accuracy wrt to validation and test shows a lot of variation (sudden highs and lows). It is possible that this variation is reduced by increasing the number of epoches/hidden layers. We will be also tuning the maxlenght and num_words to see the changes.\n",
    "### model took 25s per loop"
   ]
  },
  {
   "cell_type": "markdown",
   "metadata": {},
   "source": [
    "10- Check the accuracy and the loss of your models on the test dataset."
   ]
  },
  {
   "cell_type": "code",
   "execution_count": 24,
   "metadata": {
    "scrolled": true
   },
   "outputs": [
    {
     "name": "stdout",
     "output_type": "stream",
     "text": [
      "train loss, train acc: [0.4791858494281769, 0.7629373669624329]\n",
      "test loss, test acc: [0.6023980379104614, 0.6804251670837402]\n"
     ]
    }
   ],
   "source": [
    "results = model1.evaluate(x_train, y_train,verbose=0)\n",
    "print(\"train loss, train acc:\", results)\n",
    "results = model1.evaluate(x_test, y_test,verbose=0)\n",
    "print(\"test loss, test acc:\", results)"
   ]
  },
  {
   "cell_type": "markdown",
   "metadata": {},
   "source": [
    "### Base model gives 76% train and 68% test accuracy"
   ]
  },
  {
   "cell_type": "markdown",
   "metadata": {},
   "source": [
    "## Tuning The Vanilla RNN Network\n"
   ]
  },
  {
   "cell_type": "markdown",
   "metadata": {},
   "source": [
    "11- Prepare the data to use sequences of length 80 rather than length 30 and retrain your model.  Did it improve the performance?\n",
    "\n",
    "12- Try different values of the  maximum length of a sequence (\"max_features\").  Can you improve the performance?\n",
    "\n",
    "13- Try smaller and larger sizes of the RNN hidden dimension.  How does it affect the model performance?  How does it affect the run time?"
   ]
  },
  {
   "cell_type": "markdown",
   "metadata": {},
   "source": [
    "## 11 lets tune the sequence of lenght to 80"
   ]
  },
  {
   "cell_type": "code",
   "execution_count": 25,
   "metadata": {},
   "outputs": [
    {
     "data": {
      "text/plain": [
       "(25000, 80)"
      ]
     },
     "execution_count": 25,
     "metadata": {},
     "output_type": "execute_result"
    }
   ],
   "source": [
    "train_data,train_labels,test_data, test_labels= dataload(num_words=20000)\n",
    "common_words=80\n",
    "x_train,x_test,y_train,y_test=padd(train_data,test_data,train_labels,test_labels)\n",
    "x_train.shape"
   ]
  },
  {
   "cell_type": "code",
   "execution_count": 26,
   "metadata": {
    "scrolled": true
   },
   "outputs": [
    {
     "data": {
      "image/png": "[encoded data removed]",
      "text/plain": [
       "<Figure size 432x288 with 1 Axes>"
      ]
     },
     "metadata": {
      "needs_background": "light"
     },
     "output_type": "display_data"
    },
    {
     "data": {
      "image/png": "[encoded data removed]",
      "text/plain": [
       "<Figure size 432x288 with 1 Axes>"
      ]
     },
     "metadata": {
      "needs_background": "light"
     },
     "output_type": "display_data"
    },
    {
     "name": "stdout",
     "output_type": "stream",
     "text": [
      "train loss, train acc: [0.36964860558509827, 0.8274429440498352]\n",
      "test loss, test acc: [0.6292873620986938, 0.721177875995636]\n",
      "3min 57s ± 0 ns per loop (mean ± std. dev. of 1 run, 1 loop each)\n"
     ]
    }
   ],
   "source": [
    "%%timeit -n1 -r1 \n",
    "model2=create_model(20000,80,1)\n",
    "rms=RMSprop(learning_rate=0.001)\n",
    "model2.compile(optimizer=rms,loss='binary_crossentropy',metrics=['acc'])\n",
    "history2=model2.fit(x_train,y_train,epochs=10,batch_size=32,validation_split = 0.2,verbose=0)\n",
    "plot_loss(history2.history['loss'], history2.history['val_loss'])\n",
    "# Plot train vs test accuracy during training\n",
    "plot_accuracy(history2.history['acc'], history2.history['val_acc'])\n",
    "results = model2.evaluate(x_train, y_train,verbose=0)\n",
    "print(\"train loss, train acc:\", results)\n",
    "results = model2.evaluate(x_test, y_test,verbose=0)\n",
    "print(\"test loss, test acc:\", results)"
   ]
  },
  {
   "cell_type": "markdown",
   "metadata": {},
   "source": [
    "### AS we can see that the model accuracy and loss had a slightly lesser variation than base model. The train and test accuracy are now 81% and 72% (which is a significant increase from the base model). Hence increasing the lenght of sequences did increase the accuracy. Though the runtime increased to 51s per loop"
   ]
  },
  {
   "cell_type": "markdown",
   "metadata": {},
   "source": [
    "## 12.1 max_length tuning to 50k from 20k"
   ]
  },
  {
   "cell_type": "code",
   "execution_count": 27,
   "metadata": {},
   "outputs": [
    {
     "data": {
      "text/plain": [
       "(25000, 80)"
      ]
     },
     "execution_count": 27,
     "metadata": {},
     "output_type": "execute_result"
    }
   ],
   "source": [
    "train_data,train_labels,test_data, test_labels= dataload(num_words=50000)\n",
    "common_words=80\n",
    "x_train,x_test,y_train,y_test=padd(train_data,test_data,train_labels,test_labels)\n",
    "x_train.shape"
   ]
  },
  {
   "cell_type": "code",
   "execution_count": 28,
   "metadata": {
    "scrolled": false
   },
   "outputs": [
    {
     "data": {
      "image/png": "[encoded data removed]",
      "text/plain": [
       "<Figure size 432x288 with 1 Axes>"
      ]
     },
     "metadata": {
      "needs_background": "light"
     },
     "output_type": "display_data"
    },
    {
     "data": {
      "image/png": "[encoded data removed]",
      "text/plain": [
       "<Figure size 432x288 with 1 Axes>"
      ]
     },
     "metadata": {
      "needs_background": "light"
     },
     "output_type": "display_data"
    },
    {
     "name": "stdout",
     "output_type": "stream",
     "text": [
      "train loss, train acc: [0.38406190276145935, 0.8264749050140381]\n",
      "test loss, test acc: [0.5952852368354797, 0.7200760245323181]\n",
      "4min 6s ± 0 ns per loop (mean ± std. dev. of 1 run, 1 loop each)\n"
     ]
    }
   ],
   "source": [
    "%%timeit -n1 -r1 \n",
    "model3=create_model(50000,80,1)\n",
    "rms=RMSprop(learning_rate=0.001)\n",
    "model3.compile(optimizer=rms,loss='binary_crossentropy',metrics=['acc'])\n",
    "history3=model3.fit(x_train,y_train,epochs=10,batch_size=32,validation_split = 0.2,verbose=0)\n",
    "plot_loss(history3.history['loss'], history3.history['val_loss'])\n",
    "# Plot train vs test accuracy during training\n",
    "plot_accuracy(history3.history['acc'], history3.history['val_acc'])\n",
    "results = model3.evaluate(x_train, y_train,verbose=0)\n",
    "print(\"train loss, train acc:\", results)\n",
    "results = model3.evaluate(x_test, y_test,verbose=0)\n",
    "print(\"test loss, test acc:\", results)"
   ]
  },
  {
   "cell_type": "markdown",
   "metadata": {},
   "source": [
    "###  The train and test accuracy are now 82% and 72% (which is a same accuracy as the previous model). Hence increasing the max length of sequence from 20k to 50k maintained almost  similar accuracy. THough the runtime slightly increased to 1m6s per loop"
   ]
  },
  {
   "cell_type": "markdown",
   "metadata": {},
   "source": [
    "## 12.2 max_length tuning to 5k from 50k"
   ]
  },
  {
   "cell_type": "code",
   "execution_count": 29,
   "metadata": {},
   "outputs": [
    {
     "data": {
      "text/plain": [
       "(25000, 80)"
      ]
     },
     "execution_count": 29,
     "metadata": {},
     "output_type": "execute_result"
    }
   ],
   "source": [
    "train_data,train_labels,test_data, test_labels= dataload(num_words=5000)\n",
    "common_words=80\n",
    "x_train,x_test,y_train,y_test=padd(train_data,test_data,train_labels,test_labels)\n",
    "x_train.shape"
   ]
  },
  {
   "cell_type": "code",
   "execution_count": null,
   "metadata": {},
   "outputs": [],
   "source": [
    "%%timeit -n1 -r1 \n",
    "model4=create_model(5000,80,1)\n",
    "rms=RMSprop(learning_rate=0.001)\n",
    "model4.compile(optimizer=rms,loss='binary_crossentropy',metrics=['acc'])\n",
    "history4=model4.fit(x_train,y_train,epochs=10,batch_size=32,validation_split = 0.2,verbose=0)\n",
    "plot_loss(history4.history['loss'], history4.history['val_loss'])\n",
    "# Plot train vs test accuracy during training\n",
    "plot_accuracy(history4.history['acc'], history4.history['val_acc'])\n",
    "results = model4.evaluate(x_train, y_train,verbose=0)\n",
    "print(\"train loss, train acc:\", results)\n",
    "results = model4.evaluate(x_test, y_test,verbose=0)\n",
    "print(\"test loss, test acc:\", results)"
   ]
  },
  {
   "cell_type": "markdown",
   "metadata": {},
   "source": [
    "###  The train and test accuracy are now 78% and 72% (which is a same test accuracy as the previous model). Hence decreasing the max length of sequence from 5k from 50k maintained almost  similar test accuracy. Though the runtime decreased to 48s per loop"
   ]
  },
  {
   "cell_type": "markdown",
   "metadata": {},
   "source": [
    "## 13.1 using 2 RNN hidden dimension"
   ]
  },
  {
   "cell_type": "code",
   "execution_count": null,
   "metadata": {},
   "outputs": [],
   "source": [
    "train_data,train_labels,test_data, test_labels= dataload(num_words=5000)\n",
    "common_words=80\n",
    "x_train,x_test,y_train,y_test=padd(train_data,test_data,train_labels,test_labels)\n",
    "x_train.shape"
   ]
  },
  {
   "cell_type": "code",
   "execution_count": null,
   "metadata": {},
   "outputs": [],
   "source": [
    "%%timeit -n1 -r1 \n",
    "model5=Sequential()\n",
    "model5.add(Embedding(5000,50,input_length=80))\n",
    "model5.add(SimpleRNN(2,return_sequences=True, kernel_initializer=initializers.RandomNormal(stddev=0.01)))\n",
    "model5.add(Dense(1,activation='sigmoid'))\n",
    "rms=RMSprop(learning_rate=0.001)\n",
    "model5.compile(optimizer=rms,loss='binary_crossentropy',metrics=['acc'])\n",
    "history5=model5.fit(x_train,y_train,epochs=10,batch_size=32,validation_split = 0.2,verbose=0)\n",
    "plot_loss(history5.history['loss'], history5.history['val_loss'])\n",
    "# Plot train vs test accuracy during training\n",
    "plot_accuracy(history5.history['acc'], history5.history['val_acc'])\n",
    "results = model5.evaluate(x_train, y_train,verbose=0)\n",
    "print(\"train loss, train acc:\", results)\n",
    "results = model5.evaluate(x_test, y_test,verbose=0)\n",
    "print(\"test loss, test acc:\", results)"
   ]
  },
  {
   "cell_type": "markdown",
   "metadata": {},
   "source": [
    "### As we can see using 2 RNN hidden dimensions the accuracy of train and test became 78.7% and 72.7% respectively (which is almost same as the previous model).\n",
    "### Though the runtime for model training is now 46.5s ,which is slightly lesser than of  the previous value"
   ]
  },
  {
   "cell_type": "markdown",
   "metadata": {},
   "source": []
  },
  {
   "cell_type": "markdown",
   "metadata": {},
   "source": [
    "## 13.2 using 16 RNN hidden dimension"
   ]
  },
  {
   "cell_type": "code",
   "execution_count": null,
   "metadata": {},
   "outputs": [],
   "source": [
    "train_data,train_labels,test_data, test_labels= dataload(num_words=5000)\n",
    "common_words=80\n",
    "x_train,x_test,y_train,y_test=padd(train_data,test_data,train_labels,test_labels)\n",
    "x_train.shape"
   ]
  },
  {
   "cell_type": "code",
   "execution_count": null,
   "metadata": {},
   "outputs": [],
   "source": [
    "%%timeit -n1 -r1 \n",
    "model6=Sequential()\n",
    "model6.add(Embedding(5000,50,input_length=80))\n",
    "model6.add(SimpleRNN(16,return_sequences=True, kernel_initializer=initializers.RandomNormal(stddev=0.01)))\n",
    "model6.add(Dense(1,activation='sigmoid'))\n",
    "rms=RMSprop(learning_rate=0.001)\n",
    "model6.compile(optimizer=rms,loss='binary_crossentropy',metrics=['acc'])\n",
    "history6=model6.fit(x_train,y_train,epochs=10,batch_size=32,validation_split = 0.2,verbose=0)\n",
    "plot_loss(history6.history['loss'], history6.history['val_loss'])\n",
    "# Plot train vs test accuracy during training\n",
    "plot_accuracy(history6.history['acc'], history6.history['val_acc'])\n",
    "results = model6.evaluate(x_train, y_train,verbose=0)\n",
    "print(\"train loss, train acc:\", results)\n",
    "results = model6.evaluate(x_test, y_test,verbose=0)\n",
    "print(\"test loss, test acc:\", results)"
   ]
  },
  {
   "cell_type": "markdown",
   "metadata": {},
   "source": [
    "### As we can see using 16 RNN hidden dimensions the accuracy of train and test became 79% and 72% respectively (which is almost same as the previous model). \n",
    "### Though the runtime for model training is now 47s ,which is almost same as the previous model"
   ]
  },
  {
   "cell_type": "markdown",
   "metadata": {},
   "source": [
    "## Train LSTM and GRU networks"
   ]
  },
  {
   "cell_type": "markdown",
   "metadata": {},
   "source": [
    "\n",
    "14- Build LSTM and GRU networks and compare their performance (accuracy and execution time) with the SimpleRNN. What is your conclusion?"
   ]
  },
  {
   "cell_type": "code",
   "execution_count": null,
   "metadata": {},
   "outputs": [],
   "source": [
    "%%timeit -n1 -r1\n",
    "from keras.layers import LSTM\n",
    "import tensorflow as tf\n",
    "(x_train, y_train), (x_test, y_test) = imdb.load_data(num_words = 20000)\n",
    "x_train = sequence.pad_sequences(x_train, maxlen = 30)\n",
    "x_test = sequence.pad_sequences(x_test, maxlen = 30)\n",
    "\n",
    "model = Sequential()\n",
    "model.add(Embedding(20000, 50, input_length = 30))\n",
    "model.add(LSTM(5))\n",
    "model.add(Dense(1, activation='sigmoid'))\n",
    "model.summary()\n",
    "\n",
    "model.compile(optimizer = tf.keras.optimizers.RMSprop(learning_rate = 0.0001),loss = 'binary_crossentropy',metrics = ['acc'])\n",
    "\n",
    "lstm_ = model.fit(x_train,y_train,epochs = 10,validation_split = 0.2,verbose=0)\n",
    "plot_loss(lstm_.history['loss'], lstm_.history['val_loss'])\n",
    "# Plot train vs test accuracy during training\n",
    "plot_accuracy(lstm_.history['acc'], lstm_.history['val_acc'])\n",
    "results = model.evaluate(x_train, y_train,verbose=0)\n",
    "print(\"train loss, train acc:\", results)\n",
    "results = model.evaluate(x_test, y_test,verbose=0)\n",
    "print(\"test loss, test acc:\", results)"
   ]
  },
  {
   "cell_type": "markdown",
   "metadata": {},
   "source": [
    "### As we can see the accuracy and loss graph wrt to epoches does not have much variance as compared to before. The training and test accuracies are 83% and 77.6% each (which is 9% more test accuracy than the base model).\n",
    "### the runtime is 39s per loop as compared to 25s of base model"
   ]
  },
  {
   "cell_type": "markdown",
   "metadata": {},
   "source": [
    "## GRU"
   ]
  },
  {
   "cell_type": "code",
   "execution_count": null,
   "metadata": {},
   "outputs": [],
   "source": [
    "%%timeit -n1 -r1\n",
    "from keras.layers import GRU\n",
    "import tensorflow as tf\n",
    "(x_train, y_train), (x_test, y_test) = imdb.load_data(num_words = 20000)\n",
    "x_train = sequence.pad_sequences(x_train, maxlen = 30)\n",
    "x_test = sequence.pad_sequences(x_test, maxlen = 30)\n",
    "\n",
    "model = Sequential()\n",
    "model.add(Embedding(20000, 50, input_length = 30))\n",
    "model.add(GRU(5, activation = 'relu',dropout = 0.1, recurrent_dropout = 0.5))\n",
    "model.add(Dense(1, activation='sigmoid'))\n",
    "model.summary()\n",
    "\n",
    "model.compile(optimizer = tf.keras.optimizers.RMSprop(learning_rate = 0.0001),loss = 'binary_crossentropy',metrics = ['acc'])\n",
    "\n",
    "gru_ = model.fit(x_train,y_train,epochs = 10,validation_split = 0.2,verbose=0)\n",
    "plot_loss(gru_.history['loss'], gru_.history['val_loss'])\n",
    "# Plot train vs test accuracy during training\n",
    "plot_accuracy(gru_.history['acc'], gru_.history['val_acc'])\n",
    "results = model.evaluate(x_train, y_train,verbose=0)\n",
    "print(\"train loss, train acc:\", results)\n",
    "results = model.evaluate(x_test, y_test,verbose=0)\n",
    "print(\"test loss, test acc:\", results)"
   ]
  },
  {
   "cell_type": "markdown",
   "metadata": {},
   "source": [
    "### As we can see the accuracy and loss graph wrt to epoches does not have much variance as compared to before. The training and test accuracies are 74.1% and 70.4% each (which is 2% more than the base model).\n",
    "### the runtime is 1m 6s per loop as compared to 25s of base model\n",
    "### Both models will further improve with more number of epoches as both the train and val accuracy and loss have not converged. "
   ]
  },
  {
   "cell_type": "markdown",
   "metadata": {},
   "source": [
    "# From the above models we can conclude that LSTM model gives good accuracy but the runtime is largern than SimpleRNN. \n",
    "## We also observed that increasing the sequence of length also helps in increasing the accuracy to a great exent.\n"
   ]
  },
  {
   "cell_type": "code",
   "execution_count": null,
   "metadata": {},
   "outputs": [],
   "source": []
  },
  {
   "cell_type": "code",
   "execution_count": null,
   "metadata": {},
   "outputs": [],
   "source": []
  }
 ],
 "metadata": {
  "kernelspec": {
   "display_name": "Python 3 (ipykernel)",
   "language": "python",
   "name": "python3"
  },
  "language_info": {
   "codemirror_mode": {
    "name": "ipython",
    "version": 3
   },
   "file_extension": ".py",
   "mimetype": "text/x-python",
   "name": "python",
   "nbconvert_exporter": "python",
   "pygments_lexer": "ipython3",
   "version": "3.9.7"
  },
  "toc": {
   "base_numbering": 1,
   "nav_menu": {},
   "number_sections": true,
   "sideBar": true,
   "skip_h1_title": false,
   "title_cell": "Table of Contents",
   "title_sidebar": "Contents",
   "toc_cell": false,
   "toc_position": {},
   "toc_section_display": true,
   "toc_window_display": false
  },
  "varInspector": {
   "cols": {
    "lenName": 16,
    "lenType": 16,
    "lenVar": 40
   },
   "kernels_config": {
    "python": {
     "delete_cmd_postfix": "",
     "delete_cmd_prefix": "del ",
     "library": "var_list.py",
     "varRefreshCmd": "print(var_dic_list())"
    },
    "r": {
     "delete_cmd_postfix": ") ",
     "delete_cmd_prefix": "rm(",
     "library": "var_list.r",
     "varRefreshCmd": "cat(var_dic_list()) "
    }
   },
   "types_to_exclude": [
    "module",
    "function",
    "builtin_function_or_method",
    "instance",
    "_Feature"
   ],
   "window_display": true
  }
 },
 "nbformat": 4,
 "nbformat_minor": 1
}
